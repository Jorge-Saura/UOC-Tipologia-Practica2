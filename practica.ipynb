{
 "cells": [
  {
   "cell_type": "code",
   "execution_count": 107,
   "metadata": {},
   "outputs": [],
   "source": [
    "import pandas as pd\n",
    "import seaborn as sns\n",
    "import matplotlib.pyplot as plt\n",
    "\n",
    "import numpy as np\n",
    "\n",
    "# Comment this if the data visualisations doesn't work on your side\n",
    "%matplotlib inline\n",
    "\n",
    "plt.style.use('bmh')"
   ]
  },
  {
   "cell_type": "code",
   "execution_count": 29,
   "metadata": {},
   "outputs": [
    {
     "data": {
      "text/html": [
       "<div>\n",
       "<style scoped>\n",
       "    .dataframe tbody tr th:only-of-type {\n",
       "        vertical-align: middle;\n",
       "    }\n",
       "\n",
       "    .dataframe tbody tr th {\n",
       "        vertical-align: top;\n",
       "    }\n",
       "\n",
       "    .dataframe thead th {\n",
       "        text-align: right;\n",
       "    }\n",
       "</style>\n",
       "<table border=\"1\" class=\"dataframe\">\n",
       "  <thead>\n",
       "    <tr style=\"text-align: right;\">\n",
       "      <th></th>\n",
       "      <th>IDENCCC</th>\n",
       "      <th>ORDENTRA</th>\n",
       "      <th>NUTS1</th>\n",
       "      <th>CNACE</th>\n",
       "      <th>ESTRATO2</th>\n",
       "      <th>CONTROL</th>\n",
       "      <th>MERCADO</th>\n",
       "      <th>REGULACION</th>\n",
       "      <th>SEXO</th>\n",
       "      <th>TIPOPAIS</th>\n",
       "      <th>...</th>\n",
       "      <th>DSIESPA3</th>\n",
       "      <th>SIESPA4</th>\n",
       "      <th>DSIESPA4</th>\n",
       "      <th>RETRINOIN</th>\n",
       "      <th>RETRIIN</th>\n",
       "      <th>GEXTRA</th>\n",
       "      <th>VESPNOIN</th>\n",
       "      <th>VESPIN</th>\n",
       "      <th>ANOS2</th>\n",
       "      <th>FACTOTAL</th>\n",
       "    </tr>\n",
       "  </thead>\n",
       "  <tbody>\n",
       "    <tr>\n",
       "      <th>0</th>\n",
       "      <td>25</td>\n",
       "      <td>1</td>\n",
       "      <td>1</td>\n",
       "      <td>H1</td>\n",
       "      <td>1</td>\n",
       "      <td>2</td>\n",
       "      <td>3</td>\n",
       "      <td>2</td>\n",
       "      <td>1</td>\n",
       "      <td>1</td>\n",
       "      <td>...</td>\n",
       "      <td>0</td>\n",
       "      <td>6</td>\n",
       "      <td>0</td>\n",
       "      <td>6128.65</td>\n",
       "      <td>0.0</td>\n",
       "      <td>787.35</td>\n",
       "      <td>0.0</td>\n",
       "      <td>0.0</td>\n",
       "      <td>6</td>\n",
       "      <td>70.48</td>\n",
       "    </tr>\n",
       "    <tr>\n",
       "      <th>1</th>\n",
       "      <td>25</td>\n",
       "      <td>2</td>\n",
       "      <td>1</td>\n",
       "      <td>H1</td>\n",
       "      <td>1</td>\n",
       "      <td>2</td>\n",
       "      <td>3</td>\n",
       "      <td>2</td>\n",
       "      <td>1</td>\n",
       "      <td>1</td>\n",
       "      <td>...</td>\n",
       "      <td>0</td>\n",
       "      <td>6</td>\n",
       "      <td>0</td>\n",
       "      <td>16509.97</td>\n",
       "      <td>0.0</td>\n",
       "      <td>3127.50</td>\n",
       "      <td>0.0</td>\n",
       "      <td>0.0</td>\n",
       "      <td>6</td>\n",
       "      <td>70.48</td>\n",
       "    </tr>\n",
       "    <tr>\n",
       "      <th>2</th>\n",
       "      <td>25</td>\n",
       "      <td>3</td>\n",
       "      <td>1</td>\n",
       "      <td>H1</td>\n",
       "      <td>1</td>\n",
       "      <td>2</td>\n",
       "      <td>3</td>\n",
       "      <td>2</td>\n",
       "      <td>6</td>\n",
       "      <td>1</td>\n",
       "      <td>...</td>\n",
       "      <td>0</td>\n",
       "      <td>6</td>\n",
       "      <td>0</td>\n",
       "      <td>18284.40</td>\n",
       "      <td>0.0</td>\n",
       "      <td>3200.76</td>\n",
       "      <td>0.0</td>\n",
       "      <td>0.0</td>\n",
       "      <td>4</td>\n",
       "      <td>70.48</td>\n",
       "    </tr>\n",
       "    <tr>\n",
       "      <th>3</th>\n",
       "      <td>25</td>\n",
       "      <td>4</td>\n",
       "      <td>1</td>\n",
       "      <td>H1</td>\n",
       "      <td>1</td>\n",
       "      <td>2</td>\n",
       "      <td>3</td>\n",
       "      <td>2</td>\n",
       "      <td>1</td>\n",
       "      <td>1</td>\n",
       "      <td>...</td>\n",
       "      <td>0</td>\n",
       "      <td>6</td>\n",
       "      <td>0</td>\n",
       "      <td>16549.97</td>\n",
       "      <td>0.0</td>\n",
       "      <td>3127.77</td>\n",
       "      <td>0.0</td>\n",
       "      <td>0.0</td>\n",
       "      <td>6</td>\n",
       "      <td>70.48</td>\n",
       "    </tr>\n",
       "    <tr>\n",
       "      <th>4</th>\n",
       "      <td>25</td>\n",
       "      <td>5</td>\n",
       "      <td>1</td>\n",
       "      <td>H1</td>\n",
       "      <td>1</td>\n",
       "      <td>2</td>\n",
       "      <td>3</td>\n",
       "      <td>2</td>\n",
       "      <td>1</td>\n",
       "      <td>1</td>\n",
       "      <td>...</td>\n",
       "      <td>0</td>\n",
       "      <td>6</td>\n",
       "      <td>0</td>\n",
       "      <td>16554.71</td>\n",
       "      <td>0.0</td>\n",
       "      <td>3072.51</td>\n",
       "      <td>0.0</td>\n",
       "      <td>0.0</td>\n",
       "      <td>4</td>\n",
       "      <td>70.48</td>\n",
       "    </tr>\n",
       "  </tbody>\n",
       "</table>\n",
       "<p>5 rows × 56 columns</p>\n",
       "</div>"
      ],
      "text/plain": [
       "   IDENCCC  ORDENTRA  NUTS1 CNACE  ESTRATO2  CONTROL  MERCADO  REGULACION  \\\n",
       "0       25         1      1    H1         1        2        3           2   \n",
       "1       25         2      1    H1         1        2        3           2   \n",
       "2       25         3      1    H1         1        2        3           2   \n",
       "3       25         4      1    H1         1        2        3           2   \n",
       "4       25         5      1    H1         1        2        3           2   \n",
       "\n",
       "   SEXO  TIPOPAIS  ... DSIESPA3  SIESPA4  DSIESPA4  RETRINOIN  RETRIIN  \\\n",
       "0     1         1  ...        0        6         0    6128.65      0.0   \n",
       "1     1         1  ...        0        6         0   16509.97      0.0   \n",
       "2     6         1  ...        0        6         0   18284.40      0.0   \n",
       "3     1         1  ...        0        6         0   16549.97      0.0   \n",
       "4     1         1  ...        0        6         0   16554.71      0.0   \n",
       "\n",
       "    GEXTRA  VESPNOIN  VESPIN  ANOS2  FACTOTAL  \n",
       "0   787.35       0.0     0.0      6     70.48  \n",
       "1  3127.50       0.0     0.0      6     70.48  \n",
       "2  3200.76       0.0     0.0      4     70.48  \n",
       "3  3127.77       0.0     0.0      6     70.48  \n",
       "4  3072.51       0.0     0.0      4     70.48  \n",
       "\n",
       "[5 rows x 56 columns]"
      ]
     },
     "execution_count": 29,
     "metadata": {},
     "output_type": "execute_result"
    }
   ],
   "source": [
    "#cargamos nuestro dataset extraido del INE\n",
    "\n",
    "dfSueldos = pd.read_csv('./Dataset/EES_2018.csv', delimiter=\"\\t\")\n",
    "dfSueldos.head()"
   ]
  },
  {
   "cell_type": "code",
   "execution_count": 30,
   "metadata": {},
   "outputs": [
    {
     "data": {
      "text/plain": [
       "(216726, 56)"
      ]
     },
     "execution_count": 30,
     "metadata": {},
     "output_type": "execute_result"
    }
   ],
   "source": [
    "#mostramos la amplitud del dataset\n",
    "\n",
    "dfSueldos.shape"
   ]
  },
  {
   "cell_type": "markdown",
   "metadata": {},
   "source": [
    "\n",
    "Mostramos a continuación el detalle de todas las caracteríticas incluidas enel dataset. Acompañamos la documentación con el archivo \"dr_EES_2018.xlsx\" descargado de la página del INE junto al dataset original y que contiene la explicación detallada de cada una de ellas y a que se corresponden los valores categóricos almacenados.\n",
    "\n",
    "| Variable   | Descripción                                                                        |\n",
    "|------------|------------------------------------------------------------------------------------|\n",
    "| IDENCCC    | CÓDIGO DE IDENTIFICACIÓN DEL CENTRO DE COTIZACIÓN                                  |\n",
    "| ORDENTRA   | NÚMERO DE ORDEN DEL TRABAJADOR                                                     |\n",
    "| NUTS1      | NUTS1                                                                              |\n",
    "| CNACE      | CÓDIGO ACTIVIDAD ECONOMICA (CNAE 2009)                                             |\n",
    "| ESTRATO2   | TAMAÑO DE LA UNIDAD                                                                |\n",
    "| CONTROL    | PROPIEDAD O CONTROL                                                                |\n",
    "| MERCADO    | MERCADO                                                                            |\n",
    "| REGULACION | FORMA DE REGULACIÓN DE LAS RELACIONES LABORALES                                    |\n",
    "| SEXO       | SEXO                                                                               |\n",
    "| TIPOPAIS   | NACIONALIDAD                                                                       |\n",
    "| CNO1       | CODIGO DE OCUPACION (GRUPO PRINCPAL CNO-11)                                        |\n",
    "| RESPONSA   | RESPONSABILIDAD EN ORGANIZACIÓN Y/O SUPERVISION                                    |\n",
    "| ESTU       | ESTUDIOS (CODIGO DE LA TITULACION)                                                 |\n",
    "| ANOANTI    | AÑOS DE ANTIGÜEDAD                                                                 |\n",
    "| MESANTI    | MESES DE ANTIGÜEDAD                                                                |\n",
    "| TIPOJOR    | TIPO DE JORNADA                                                                    |\n",
    "| TIPOCON    | DURACION DEL CONTRATO                                                              |\n",
    "| FIJODISM   | MESES DEL PERÍODO DE TRABAJO DEL TRABAJADOR FIJO DISCONTINUO                       |\n",
    "| FIJODISD   | DÍAS DEL PERÍODO DE TRABAJO DEL TRABAJADOR FIJO DISCONTINUO                        |\n",
    "| VAL        | DIAS DE VACACIONES ANUALES LABORABLES                                              |\n",
    "| VAN        | DIAS DE VACACIONES ANUALES NATURALES                                               |\n",
    "| PUENTES    | FIESTAS NO OFICIALES                                                               |\n",
    "| JAP        | JORNADA ANUAL PACTADA                                                              |\n",
    "| JSP1       | JORNADA SEMANAL PACTADA  (HORAS)                                                   |\n",
    "| JSP2       | JORNADA SEMANAL PACTADA  (MINUTOS)                                                 |\n",
    "| HEXTRA     | HORAS EXTRAORDINARIAS                                                              |\n",
    "| DRELABM    | DURACIÓN DE LA RELACIÓN LABORAL EN EL MES DE OCTUBRE                               |\n",
    "| SIESPM1    | SITUACIÓN ESPECIAL 1 EN EL MES DE OCTUBRE                                          |\n",
    "| DSIESPM1   | DÍAS EN SITUACIÓN ESPECIAL 1 EN EL MES DE OCTUBRE                                  |\n",
    "| SIESPM2    | SITUACIÓN ESPECIAL 2 EN EL MES DE OCTUBRE                                          |\n",
    "| DSIESPM2   | DÍAS EN SITUACIÓN ESPECIAL 2 EN EL MES DE OCTUBRE                                  |\n",
    "| SALBASE    | SALARIO BASE                                                                       |\n",
    "| EXTRAORM   | PAGA EXTRAORDINARIA MENSUAL                                                        |\n",
    "| PHEXTRA    | PAGOS POR HORAS EXTRAORDINARIAS                                                    |\n",
    "| COMSAL     | COMPLEMENTOS SALARIALES                                                            |\n",
    "| COMSALTT   | COMPLEMENTOS SALARIALES POR TURNO DE TRABAJO                                       |\n",
    "| IRPFMES    | RETENCIONES IRPF EN EL MES DE OCTUBRE                                              |\n",
    "| COTIZA     | CONTRIBUCIONES A LA SEGURIDAD SOCIAL                                               |\n",
    "| BASE       | BASE DE COTIZACIÓN  A LA SEGURIDAD SOCIAL POR CONTINGENCIAS COMUNES DEL TRABAJADOR |\n",
    "| DRELABAM   | DURACIÓN DE LA RELACIÓN LABORAL EN EL AÑO (MESES)                                  |\n",
    "| DRELABAD   | DURACIÓN DE LA RELACIÓN LABORAL EN EL AÑO (DÍAS)                                   |\n",
    "| SIESPA1    | SITUACIÓN ESPECIAL 1 EN EL AÑO                                                     |\n",
    "| DSIESPA1   | DÍAS EN SITUACIÓN ESPECIAL 1 EN AÑO                                                |\n",
    "| SIESPA2    | SITUACIÓN ESPECIAL 2 EN EL AÑO                                                     |\n",
    "| DSIESPA2   | DÍAS EN SITUACIÓN ESPECIAL 2 EN AÑO                                                |\n",
    "| SIESPA3    | SITUACIÓN ESPECIAL 3 EN EL AÑO                                                     |\n",
    "| DSIESPA3   | DÍAS EN SITUACIÓN ESPECIAL 3 EN AÑO                                                |\n",
    "| SIESPA4    | SITUACIÓN ESPECIAL 4 EN EL AÑO                                                     |\n",
    "| DSIESPA4   | DÍAS EN SITUACIÓN ESPECIAL 4 EN AÑO                                                |\n",
    "| RETRINOIN  | SALARIO BRUTO ANUAL NO DERIVADO DE IT                                              |\n",
    "| RETRIIN    | SALARIO BRUTO ANUAL DERIVADO DE IT                                                 |\n",
    "| GEXTRA     | GRATIFICACIONES EXTRAORDINARIAS ABONADAS EN EL AÑO                                 |\n",
    "| VESPNOIN   | VALORACIÓN EN ESPECIE NO DERIVADA DE IT                                            |\n",
    "| VESPIN     | VALORACIÓN EN ESPECIE DERIVADA DE IT                                               |\n",
    "| ANOS2      | EDAD                                                                               |\n",
    "| FACTOTAL   | FACTOR DE ELEVACIÓN (12.2)                                                         |"
   ]
  },
  {
   "cell_type": "code",
   "execution_count": 31,
   "metadata": {},
   "outputs": [
    {
     "name": "stdout",
     "output_type": "stream",
     "text": [
      "<class 'pandas.core.frame.DataFrame'>\n",
      "RangeIndex: 216726 entries, 0 to 216725\n",
      "Data columns (total 56 columns):\n",
      " #   Column      Non-Null Count   Dtype  \n",
      "---  ------      --------------   -----  \n",
      " 0   IDENCCC     216726 non-null  int64  \n",
      " 1   ORDENTRA    216726 non-null  int64  \n",
      " 2   NUTS1       216726 non-null  int64  \n",
      " 3   CNACE       216726 non-null  object \n",
      " 4   ESTRATO2    216726 non-null  int64  \n",
      " 5   CONTROL     216726 non-null  int64  \n",
      " 6   MERCADO     216726 non-null  int64  \n",
      " 7   REGULACION  216726 non-null  int64  \n",
      " 8   SEXO        216726 non-null  int64  \n",
      " 9   TIPOPAIS    216726 non-null  int64  \n",
      " 10  CNO1        216726 non-null  object \n",
      " 11  RESPONSA    216726 non-null  int64  \n",
      " 12  ESTU        216726 non-null  int64  \n",
      " 13  ANOANTI     216726 non-null  int64  \n",
      " 14  MESANTI     216726 non-null  int64  \n",
      " 15  TIPOJOR     216726 non-null  int64  \n",
      " 16  TIPOCON     216726 non-null  int64  \n",
      " 17  FIJODISM    216726 non-null  int64  \n",
      " 18  FIJODISD    216726 non-null  int64  \n",
      " 19  VAL         216726 non-null  int64  \n",
      " 20  VAN         216726 non-null  int64  \n",
      " 21  PUENTES     216726 non-null  int64  \n",
      " 22  JAP         216726 non-null  int64  \n",
      " 23  JSP1        216726 non-null  int64  \n",
      " 24  JSP2        216726 non-null  int64  \n",
      " 25  HEXTRA      216726 non-null  int64  \n",
      " 26  DRELABM     216726 non-null  int64  \n",
      " 27  SIESPM1     216726 non-null  int64  \n",
      " 28  DSIESPM1    216726 non-null  int64  \n",
      " 29  SIESPM2     216726 non-null  int64  \n",
      " 30  DSIESPM2    216726 non-null  int64  \n",
      " 31  SALBASE     216726 non-null  float64\n",
      " 32  EXTRAORM    216726 non-null  float64\n",
      " 33  PHEXTRA     216726 non-null  float64\n",
      " 34  COMSAL      216726 non-null  float64\n",
      " 35  COMSALTT    216726 non-null  float64\n",
      " 36  IRPFMES     216726 non-null  float64\n",
      " 37  COTIZA      216726 non-null  float64\n",
      " 38  BASE        216726 non-null  float64\n",
      " 39  DRELABAM    216726 non-null  int64  \n",
      " 40  DRELABAD    216726 non-null  int64  \n",
      " 41  SIESPA1     216726 non-null  int64  \n",
      " 42  DSIESPA1    216726 non-null  int64  \n",
      " 43  SIESPA2     216726 non-null  int64  \n",
      " 44  DSIESPA2    216726 non-null  int64  \n",
      " 45  SIESPA3     216726 non-null  int64  \n",
      " 46  DSIESPA3    216726 non-null  int64  \n",
      " 47  SIESPA4     216726 non-null  int64  \n",
      " 48  DSIESPA4    216726 non-null  int64  \n",
      " 49  RETRINOIN   216726 non-null  float64\n",
      " 50  RETRIIN     216726 non-null  float64\n",
      " 51  GEXTRA      216726 non-null  float64\n",
      " 52  VESPNOIN    216726 non-null  float64\n",
      " 53  VESPIN      216726 non-null  float64\n",
      " 54  ANOS2       216726 non-null  int64  \n",
      " 55  FACTOTAL    216726 non-null  float64\n",
      "dtypes: float64(14), int64(40), object(2)\n",
      "memory usage: 92.6+ MB\n"
     ]
    }
   ],
   "source": [
    "#vemos información de las diferentes variables.\n",
    "\n",
    "dfSueldos.info()"
   ]
  },
  {
   "cell_type": "code",
   "execution_count": 32,
   "metadata": {},
   "outputs": [
    {
     "data": {
      "text/plain": [
       "Index([], dtype='object')"
      ]
     },
     "execution_count": 32,
     "metadata": {},
     "output_type": "execute_result"
    }
   ],
   "source": [
    "#comprobamos cuales son las que tienen menos datos.\n",
    "\n",
    "df2 = dfSueldos[[column for column in dfSueldos if dfSueldos[column].count() / len(dfSueldos) <= 0.3]]\n",
    "df2.columns"
   ]
  },
  {
   "cell_type": "markdown",
   "metadata": {},
   "source": [
    "De las variables obtenidas con menos datos:\n",
    "\n",
    "ANORE1 --> se refiere a los años de residencia en España\n",
    "\n",
    "HCURNR --> se refiere a las horas de estudio en las últimas semanas. \n",
    "\n",
    "ANORE1 parece que puede aportar información relevante de cara a poder obtener una correlación con el sueldo, pero HCURNR no parece que aporte mucho al estudio que prentendemos hacer.\n",
    "\n",
    "Vamos a dejarlas todas de momento de cara a realizar un estudio más detallado de la importancia de las mismas.\n",
    "\n"
   ]
  },
  {
   "cell_type": "code",
   "execution_count": 71,
   "metadata": {},
   "outputs": [
    {
     "name": "stdout",
     "output_type": "stream",
     "text": [
      "count    216726.000000\n",
      "mean       1401.945641\n",
      "std        1359.783859\n",
      "min           0.000000\n",
      "25%         900.000000\n",
      "50%        1174.285000\n",
      "75%        1602.175000\n",
      "max      166084.020000\n",
      "Name: SALBASE, dtype: float64\n"
     ]
    },
    {
     "data": {
      "image/png": "[encoded data removed]",
      "text/plain": [
       "<Figure size 648x576 with 1 Axes>"
      ]
     },
     "metadata": {
      "needs_background": "light"
     },
     "output_type": "display_data"
    }
   ],
   "source": [
    "#realizamos un estudio de nuestra variable objetivo\n",
    "\n",
    "columnName = 'SALBASE'\n",
    "\n",
    "print(dfSueldos[columnName].describe())\n",
    "plt.figure(figsize=(9, 8))\n",
    "sns.distplot(dfSueldos[columnName], color='g', bins=100, hist_kws={'alpha': 0.4});"
   ]
  },
  {
   "cell_type": "code",
   "execution_count": 116,
   "metadata": {},
   "outputs": [
    {
     "data": {
      "text/plain": [
       "(array([0]), <a list of 1 Text xticklabel objects>)"
      ]
     },
     "execution_count": 116,
     "metadata": {},
     "output_type": "execute_result"
    },
    {
     "data": {
      "image/png": "[encoded data removed]",
      "text/plain": [
       "<Figure size 864x432 with 1 Axes>"
      ]
     },
     "metadata": {
      "needs_background": "light"
     },
     "output_type": "display_data"
    }
   ],
   "source": [
    "#vamos a ver la distibución de los datos de Salario base\n",
    "plt.figure(figsize = (12, 6))\n",
    "ax = sns.boxplot(y='SALBASE',  data=dfSueldos)\n",
    "plt.setp(ax.artists, alpha=.5, linewidth=2, edgecolor=\"k\")\n",
    "plt.xticks(rotation=45)"
   ]
  },
  {
   "cell_type": "code",
   "execution_count": 111,
   "metadata": {},
   "outputs": [
    {
     "name": "stdout",
     "output_type": "stream",
     "text": [
      "percentil 5 :  427.94\n",
      "percentil 50 :  1174.2849999999999\n",
      "percentil 95 :  3013.265\n"
     ]
    }
   ],
   "source": [
    "# Vemos que hay muchos valores por encima del limite superior de la distribución de salarios\n",
    "# lo que provoca dificultades en la visualización.\n",
    "# Vamos a eliminar algunos de los registros para visualizar mejor la distrubución de los datos\n",
    "# luego resolveremos si debemos considerar estos datos como outliers\n",
    "\n",
    "#en primer lugar calcularemos los percentiles de la distribución de los valores de SALBASE\n",
    "arr = dfSueldos[columnName]\n",
    "\n",
    "print(\"percentil 5 : \",\n",
    "       np.percentile(arr, 5))\n",
    "\n",
    "print(\"percentil 50 : \", \n",
    "       np.percentile(arr, 50))\n",
    "\n",
    "print(\"percentil 95 : \",\n",
    "       np.percentile(arr, 95))\n",
    "\n"
   ]
  },
  {
   "cell_type": "code",
   "execution_count": 112,
   "metadata": {},
   "outputs": [
    {
     "name": "stdout",
     "output_type": "stream",
     "text": [
      "10836\n",
      "0.049998615763683175\n"
     ]
    }
   ],
   "source": [
    "#Eliminaremos los valores por encima del percentil 95 y veremos cuantos datos eleminamos\n",
    "\n",
    "dfBetterVisualization = dfSueldos[dfSueldos.SALBASE < 3014]\n",
    "\n",
    "datosIniciales = len(dfSueldos)\n",
    "datosFiltrados = len(dfBetterVisualization)\n",
    "datosElminados = len(dfSueldos)- len(dfBetterVisualization)\n",
    "\n",
    "print(datosElminados)\n",
    "\n",
    "print(datosElminados/datosIniciales)\n",
    "\n"
   ]
  },
  {
   "cell_type": "code",
   "execution_count": 113,
   "metadata": {},
   "outputs": [
    {
     "data": {
      "text/plain": [
       "(array([0]), <a list of 1 Text xticklabel objects>)"
      ]
     },
     "execution_count": 113,
     "metadata": {},
     "output_type": "execute_result"
    },
    {
     "data": {
      "image/png": "[encoded data removed]",
      "text/plain": [
       "<Figure size 864x432 with 1 Axes>"
      ]
     },
     "metadata": {
      "needs_background": "light"
     },
     "output_type": "display_data"
    }
   ],
   "source": [
    "plt.figure(figsize = (12, 6))\n",
    "ax = sns.boxplot(y='SALBASE',  data=dfBetterVisualization)\n",
    "plt.setp(ax.artists, alpha=.5, linewidth=2, edgecolor=\"k\")\n",
    "plt.xticks(rotation=45)"
   ]
  },
  {
   "cell_type": "code",
   "execution_count": 115,
   "metadata": {},
   "outputs": [
    {
     "data": {
      "image/png": "[encoded data removed]",
      "text/plain": [
       "<Figure size 648x576 with 1 Axes>"
      ]
     },
     "metadata": {
      "needs_background": "light"
     },
     "output_type": "display_data"
    }
   ],
   "source": [
    "#Visualizamos mejor la distribución del Salario base\n",
    "\n",
    "columnName = 'SALBASE'\n",
    "\n",
    "plt.figure(figsize=(9, 8))\n",
    "sns.distplot(dfBetterVisualization[columnName], color='g', bins=100, hist_kws={'alpha': 0.4}, hist=True);"
   ]
  },
  {
   "cell_type": "code",
   "execution_count": null,
   "metadata": {},
   "outputs": [],
   "source": []
  },
  {
   "cell_type": "code",
   "execution_count": null,
   "metadata": {},
   "outputs": [],
   "source": []
  }
 ],
 "metadata": {
  "kernelspec": {
   "display_name": "Python 3",
   "language": "python",
   "name": "python3"
  },
  "language_info": {
   "codemirror_mode": {
    "name": "ipython",
    "version": 3
   },
   "file_extension": ".py",
   "mimetype": "text/x-python",
   "name": "python",
   "nbconvert_exporter": "python",
   "pygments_lexer": "ipython3",
   "version": "3.7.6"
  }
 },
 "nbformat": 4,
 "nbformat_minor": 2
}
